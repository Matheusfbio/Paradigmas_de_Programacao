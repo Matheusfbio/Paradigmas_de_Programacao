{
  "cells": [
    {
      "cell_type": "markdown",
      "metadata": {
        "colab_type": "text",
        "id": "view-in-github"
      },
      "source": [
        "<a href=\"https://colab.research.google.com/github/AntonioPascoal/PLP-Trabalhos/blob/main/PLP_02.ipynb\" target=\"_parent\"><img src=\"https://colab.research.google.com/assets/colab-badge.svg\" alt=\"Open In Colab\"/></a>"
      ]
    },
    {
      "cell_type": "markdown",
      "metadata": {
        "id": "hEtIbFrnZodx"
      },
      "source": [
        "Faça um programa em Python para gerar automaticamente numeros entre 0 e 99 de uma cartela de bingo. \n",
        "Sabendo que cada cartela devera conter 5 linhas de 5 numeros, \n",
        "gere estes dados de modo a nao ter numeros repetidos dentro das cartelas. \n",
        "O programa deve exibir na tela a cartela gerada."
      ]
    },
    {
      "cell_type": "code",
      "execution_count": null,
      "metadata": {
        "id": "IbsL0-PaQLjN"
      },
      "outputs": [],
      "source": [
        "import random\n",
        "\n",
        "def gerar_cartela():\n",
        "    numeros = set()\n",
        "    cartela = []\n",
        "    for i in range(5):\n",
        "        numero = random.randint(0, 99)\n",
        "        while numero in numeros:\n",
        "            numero = random.randint(0, 99)\n",
        "        numeros.add(numero)\n",
        "        cartela.append(numero)\n",
        "    return cartela\n",
        "\n",
        "def main():\n",
        "    cartela = gerar_cartela()\n",
        "    print(\"Cartela de bingo:\")\n",
        "    for linha in cartela:\n",
        "        print(linha)\n",
        "\n",
        "\n",
        "if __name__ == \"__main__\":\n",
        "    main()"
      ]
    },
    {
      "cell_type": "markdown",
      "metadata": {
        "id": "SLNGQ9UnZ33n"
      },
      "source": [
        "Faça um Programa em Python que Leia uma matriz 10 x 3 com as notas de 10 alunos em 3 provas. \n",
        "Em seguida, escreva o numero de alunos cuja pior nota foi na prova 1, \n",
        "o número de alunos cuja pior nota foi na prova 2, e o numero de alunos cuja pior nota foi na prova 3. \n",
        "Em caso de empate das piores notas de um aluno,\n",
        "o critério de desempate  e arbitrário, mas o aluno deve ser contabilizado apenas uma vez."
      ]
    },
    {
      "cell_type": "code",
      "execution_count": null,
      "metadata": {
        "id": "cxlre_WNZ-bP"
      },
      "outputs": [],
      "source": [
        "def main():\n",
        "    matriz = []\n",
        "    for i in range(10):\n",
        "        matriz.append([int(input(\"Digite a nota do aluno %d na prova 1: \" % i)),\n",
        "                      int(input(\"Digite a nota do aluno %d na prova 2: \" % i)),\n",
        "                      int(input(\"Digite a nota do aluno %d na prova 3: \" % i))])\n",
        "\n",
        "    alunos_prova_1 = 0\n",
        "    alunos_prova_2 = 0\n",
        "    alunos_prova_3 = 0\n",
        "\n",
        "    for aluno in matriz:\n",
        "        pior_nota = aluno[0]\n",
        "        if pior_nota > aluno[1]:\n",
        "            pior_nota = aluno[1]\n",
        "        if pior_nota > aluno[2]:\n",
        "            pior_nota = aluno[2]\n",
        "\n",
        "        if pior_nota == aluno[0]:\n",
        "            alunos_prova_1 += 1\n",
        "        elif pior_nota == aluno[1]:\n",
        "            alunos_prova_2 += 1\n",
        "        else:\n",
        "            alunos_prova_3 += 1\n",
        "\n",
        "    print(\"O número de alunos cuja pior nota foi na prova 1 é:\", alunos_prova_1)\n",
        "    print(\"O número de alunos cuja pior nota foi na prova 2 é:\", alunos_prova_2)\n",
        "    print(\"O número de alunos cuja pior nota foi na prova 3 é:\", alunos_prova_3)\n",
        "\n",
        "\n",
        "if __name__ == \"__main__\":\n",
        "    main()\n"
      ]
    }
  ],
  "metadata": {
    "colab": {
      "authorship_tag": "ABX9TyOAYFgqPowN4HDzX/orXAK2",
      "include_colab_link": true,
      "provenance": []
    },
    "kernelspec": {
      "display_name": "Python 3",
      "name": "python3"
    },
    "language_info": {
      "name": "python"
    }
  },
  "nbformat": 4,
  "nbformat_minor": 0
}
