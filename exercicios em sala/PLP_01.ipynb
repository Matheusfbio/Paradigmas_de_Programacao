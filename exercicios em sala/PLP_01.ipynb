{
  "cells": [
    {
      "cell_type": "markdown",
      "metadata": {
        "colab_type": "text",
        "id": "view-in-github"
      },
      "source": [
        "<a href=\"https://colab.research.google.com/github/AntonioPascoal/PLP-Trabalhos/blob/main/PLP_01.ipynb\" target=\"_parent\"><img src=\"https://colab.research.google.com/assets/colab-badge.svg\" alt=\"Open In Colab\"/></a>"
      ]
    },
    {
      "cell_type": "markdown",
      "metadata": {
        "id": "lDrLIyuHM830"
      },
      "source": [
        "Progama 01 - Objetivo fazer a leitura de duas nota e calcular sua media"
      ]
    },
    {
      "cell_type": "code",
      "execution_count": null,
      "metadata": {
        "id": "O8oDH5XdNEy0"
      },
      "outputs": [],
      "source": [
        "nota1 = float(input(\"Informe a nota 1:\"))\n",
        "nota2 = float(input(\"Informe a nota 2:\"))\n",
        "med =(nota1 + nota2)/2\n",
        "print(\"A media final é:\")\n",
        "print(med)"
      ]
    },
    {
      "cell_type": "markdown",
      "metadata": {
        "id": "X5ynwQchPnYn"
      },
      "source": [
        "Progama 01 pt2 - Escrevendo o mesmo problema de forma modularizada com funções e procedimentos"
      ]
    },
    {
      "cell_type": "code",
      "execution_count": null,
      "metadata": {
        "colab": {
          "base_uri": "https://localhost:8080/"
        },
        "id": "3YWqZD5ZPfbs",
        "outputId": "d9e48cf5-5ebe-418a-a323-c68fcbdbc59d"
      },
      "outputs": [
        {
          "name": "stdout",
          "output_type": "stream",
          "text": [
            "A media final é: 8.5\n"
          ]
        }
      ],
      "source": [
        "def CalculaMedia(nota1, nota2):\n",
        "  Med = (nota1 + nota2) /2\n",
        "  print(\"A media final é:\", Med)\n",
        "\n",
        "CalculaMedia(9,8)"
      ]
    },
    {
      "cell_type": "markdown",
      "metadata": {
        "id": "g63vN0aqR0ae"
      },
      "source": [
        "Programa 02 Faça um programa que solicite um preço de uma mercadoria e o percentual de desconto.\n",
        "Exiba o valor do descontos e o preço a pagar.\n"
      ]
    },
    {
      "cell_type": "code",
      "execution_count": null,
      "metadata": {
        "id": "swFafEOzR-SE"
      },
      "outputs": [],
      "source": [
        "def desconto(produto,desc):\n",
        "  if(desc == 0):\n",
        "    return print(produto)\n",
        "  total = produto*(desc/100)\n",
        "  return print(total)\n",
        "\n",
        "produto = float(input(\"Informe o valor do produto:\"))\n",
        "desc =float(input(\"Informe o desconto:\"))\n",
        "\n",
        "print(\"O desconto é\")\n",
        "desconto(produto,desc)"
      ]
    },
    {
      "cell_type": "markdown",
      "metadata": {
        "id": "HkRXNCGOU_R3"
      },
      "source": [
        "Programa 03 Escreva um programa para calcular a redução do tempo de vida de um fumante.\n",
        "Pergunte a quantidade de cigarros fumados por dia e quantos anos ele já fumou.\n",
        "Considere que um fumante perde 10 minutos de vida a cada cigarro,\n",
        "e calcule quantos dias de vida um fumante perderá.Exiba o total de em dias."
      ]
    },
    {
      "cell_type": "code",
      "execution_count": null,
      "metadata": {
        "colab": {
          "base_uri": "https://localhost:8080/"
        },
        "id": "Yg9kzfE_Vchc",
        "outputId": "e8993086-4935-452a-fc2c-f0b5474a6c0e"
      },
      "outputs": [
        {
          "name": "stdout",
          "output_type": "stream",
          "text": [
            "Quantida de cigarros por dia:5\n",
            "Quantida de anos fumando:5\n",
            "Redução do tempo de vida    63.37 dias.\n"
          ]
        }
      ],
      "source": [
        "cigarros_por_dia = int(input(\"Quantida de cigarros por dia:\"))\n",
        "anos_fumando = float(input(\"Quantida de anos fumando:\"))\n",
        "redução_em_minutos = anos_fumando * 365 * cigarros_por_dia *10\n",
        "\n",
        "redução_em_dias = redução_em_minutos /(24*60)\n",
        "print(\"Redução do tempo de vida %8.2f dias.\" %redução_em_dias)"
      ]
    },
    {
      "cell_type": "markdown",
      "metadata": {
        "id": "AwxuMSrOaN5L"
      },
      "source": [
        "Aula02"
      ]
    },
    {
      "cell_type": "markdown",
      "metadata": {
        "id": "GrkTRLXoXefl"
      },
      "source": [
        "Escreve um programa para controlar uma pequena máquina registradora.\n",
        "Você deve solicitar ao usuário que digite o código do produto e a quantidade comprada.\n",
        "Utilize a tabela de códigos a seguir para obter o preço de cada produto:\n",
        "\n",
        "Código preço 1:0,50 2:1,00 3:4,00 5:7,00 9:8,00 Seu progama deve exibir o total das compras depois que o usuário digitar 0. Qualquer outro código deve gerar a mensagem de erro \"Código invalido\"."
      ]
    },
    {
      "cell_type": "code",
      "execution_count": null,
      "metadata": {
        "id": "-JHWchZwYgGK"
      },
      "outputs": [],
      "source": [
        "apagar = 0\n",
        "while True:\n",
        "  código = int(input(\"Código do produto(0 para sair):\"))\n",
        "  preço = 0\n",
        "  if código == 0:\n",
        "    break\n",
        "  elif código == 1:\n",
        "       preço = 0,50\n",
        "  elif código == 2:\n",
        "       preço = 1,00\n",
        "  elif código == 3:\n",
        "       preço = 4,00\n",
        "  elif código == 5:\n",
        "       preço = 7,00\n",
        "  elif código == 9:\n",
        "       preço = 8,00\n",
        "  else:\n",
        "    print(\"Código invalido\")\n",
        "  if preço != 0:\n",
        "    quantidade = int(input(\"Quantidade:\"))\n",
        "    apagar = apagar + (preço * quantidade)\n",
        "print(f\"Total a pagar R$(apagar:8.2f)\" )"
      ]
    },
    {
      "cell_type": "markdown",
      "metadata": {
        "id": "dkF1zHmIjTF9"
      },
      "source": [
        "Exemplo em java igual ao de cima"
      ]
    },
    {
      "cell_type": "code",
      "execution_count": null,
      "metadata": {
        "id": "esM9lZ66f1WZ"
      },
      "outputs": [],
      "source": [
        "\n",
        "import java.util.Scanner;\n",
        "\n",
        "public class Main {\n",
        "    public static void main(String[] args) {\n",
        "        double apagar = 0;\n",
        "        Scanner scanner = new Scanner(System.in);\n",
        "\n",
        "        while (true) {\n",
        "            System.out.print(\"Código do produto (0 para sair): \");\n",
        "            int codigo = scanner.nextInt();\n",
        "            double preco = 0;\n",
        "\n",
        "            if (codigo == 0) {\n",
        "                break;\n",
        "            } else if (codigo == 1) {\n",
        "                preco = 0.50;\n",
        "            } else if (codigo == 2) {\n",
        "                preco = 1.00;\n",
        "            } else if (codigo == 3) {\n",
        "                preco = 4.00;\n",
        "            } else if (codigo == 5) {\n",
        "                preco = 7.00;\n",
        "            } else if (codigo == 9) {\n",
        "                preco = 8.00;\n",
        "            } else {\n",
        "                System.out.println(\"Código inválido\");\n",
        "            }\n",
        "\n",
        "            if (preco != 0) {\n",
        "                System.out.print(\"Quantidade: \");\n",
        "                int quantidade = scanner.nextInt();\n",
        "                apagar = apagar + (preco * quantidade);\n",
        "            }\n",
        "        }\n",
        "\n",
        "        System.out.printf(\"Total a pagar R$%.2f%n\", apagar);\n",
        "    }\n",
        "}"
      ]
    },
    {
      "cell_type": "markdown",
      "metadata": {
        "id": "YRu9b3kWmrZA"
      },
      "source": [
        "Exmplo usando a linguagem GO"
      ]
    },
    {
      "cell_type": "code",
      "execution_count": null,
      "metadata": {
        "id": "EdcdJ3UImXL6"
      },
      "outputs": [],
      "source": [
        "\n",
        "package main\n",
        "\n",
        "import (\n",
        "    \"fmt\"\n",
        ")\n",
        "\n",
        "func main() {\n",
        "    apagar := 0.0\n",
        "\n",
        "    for {\n",
        "        var codigo int\n",
        "        fmt.Print(\"Código do produto (0 para sair): \")\n",
        "        fmt.Scanln(&codigo)\n",
        "        preco := 0.0\n",
        "\n",
        "        if codigo == 0 {\n",
        "            break\n",
        "        } else if codigo == 1 {\n",
        "            preco = 0.50\n",
        "        } else if codigo == 2 {\n",
        "            preco = 1.00\n",
        "        } else if codigo == 3 {\n",
        "            preco = 4.00\n",
        "        } else if codigo == 5 {\n",
        "            preco = 7.00\n",
        "        } else if codigo == 9 {\n",
        "            preco = 8.00\n",
        "        } else {\n",
        "            fmt.Println(\"Código inválido\")\n",
        "        }\n",
        "\n",
        "        if preco != 0 {\n",
        "            var quantidade int\n",
        "            fmt.Print(\"Quantidade: \")\n",
        "            fmt.Scanln(&quantidade)\n",
        "            apagar = apagar + (preco * float64(quantidade))\n",
        "        }\n",
        "    }\n",
        "\n",
        "    fmt.Printf(\"Total a pagar R$%.2f\\n\", apagar)\n",
        "}"
      ]
    },
    {
      "cell_type": "markdown",
      "metadata": {
        "id": "QYFotyWHVr2e"
      },
      "source": [
        "Qual é o valor a ser pago por um consumo de energia elétrica de X kWh com um tipo de instalação Y (R, C ou I), considerando as taxas de preço:\n",
        "\n",
        "Tipo de instalação \"R\":\n",
        "Se o consumo for menor ou igual a 500 kWh, o preço é 0.40 por kWh.\n",
        "Se o consumo for maior que 500 kWh, o preço é 0.65 por kWh.\n",
        "\n",
        "Tipo de instalação \"I\":\n",
        "Se o consumo for menor ou igual a 5000 kWh, o preço é 0.55 por kWh.\n",
        "Se o consumo for maior que 5000 kWh, o preço é 0.60 por kWh.\n",
        "\n",
        "Tipo de instalação \"C\":\n",
        "Se o consumo for menor ou igual a 1000 kWh, o preço é 0.55 por kWh.\n",
        "Se o consumo for maior que 1000 kWh, o preço é 0.60 por kWh.\n",
        "\n",
        "Resposta:"
      ]
    },
    {
      "cell_type": "code",
      "execution_count": null,
      "metadata": {
        "id": "BT2jwkygVmbe"
      },
      "outputs": [],
      "source": [
        "consumo = int(input(\"Consumo em kWh: \"))\n",
        "tipo = input(\"Tipo da instalação (R, C ou I): \")\n",
        "if tipo == \"R\":\n",
        "    if consumo <= 500:\n",
        "        preço = 0.40\n",
        "    else:\n",
        "        preço = 0.65\n",
        "elif tipo == \"I\":\n",
        "    if consumo <= 5000:\n",
        "        preço = 0.55\n",
        "    else:\n",
        "        preço = 0.60\n",
        "elif tipo == \"C\":\n",
        "    if consumo <= 1000:\n",
        "        preço = 0.55\n",
        "    else:\n",
        "        preço = 0.60\n",
        "else:\n",
        "    preço = 0\n",
        "    print(\"Erro ! Tipo de instalação desconhecido!\")\n",
        "custo = consumo * preço\n",
        "print(f\"Valor a pagar: R$ {custo:7.2f}\")\n"
      ]
    },
    {
      "cell_type": "markdown",
      "metadata": {
        "id": "vSIerUTOX87n"
      },
      "source": [
        "Escreva um programa que compare duas listas. \n",
        "Utilizando operações com conjuntos, imprima:\n",
        "• os valores comuns às duas listas\n",
        "• os valores que só existem na primeira\n",
        "• os valores que existem apenas na segunda\n",
        "• uma lista com os elementos não repetidos das duas listas.\n",
        "• a primeira lista sem os elementos repetidos na segunda\n"
      ]
    },
    {
      "cell_type": "code",
      "execution_count": null,
      "metadata": {
        "id": "F8V1hbJbYG6u"
      },
      "outputs": [],
      "source": [
        "L1 = [1, 2, 6, 8]\n",
        "L2 = [3, 6, 8, 9]\n",
        "\n",
        "print(f\"Lista 1: {L1}\")\n",
        "print(f\"Lista 2: {L2}\")\n",
        "\n",
        "conjunto_1 = set(L1)\n",
        "conjunto_2 = set(L2)\n",
        "\n",
        "print(\"Valores comuns às duas listas:\", conjunto_1 & conjunto_2)\n",
        "print(\"Valores que só existem na primeira:\", conjunto_1 - conjunto_2)\n",
        "print(\"Valores que só existem na segunda:\", conjunto_2 - conjunto_1)\n",
        "\n",
        "print(\"Elementos não repetidos nas duas listas:\", conjunto_1 ^ conjunto_2)\n",
        "\n",
        "print(\"Primeira lista, sem os elementos repetidos na segunda:\",\n",
        "      conjunto_1 - conjunto_2)"
      ]
    },
    {
      "cell_type": "markdown",
      "metadata": {
        "id": "gci6LeF-YYpt"
      },
      "source": [
        "Altere o programa anterior de forma a perguntar também o valor depositado mensalmente.\n",
        "Esse valor será depositado no início de cada mês, \n",
        "e você deve considerá-lo para o cálculo de juros do mês seguinte."
      ]
    },
    {
      "cell_type": "code",
      "execution_count": null,
      "metadata": {
        "id": "lm6p4TPdYa9l"
      },
      "outputs": [],
      "source": [
        "depósito = float(input(\"Depósito inicial: \"))\n",
        "taxa = float(input(\"Taxa de juros (Ex.: 3 para 3%): \"))\n",
        "investimento = float(input(\"Depósito mensal: \"))\n",
        "mês = 1\n",
        "saldo = depósito\n",
        "while mês <= 24:\n",
        "    saldo = saldo + (saldo * (taxa / 100)) + investimento\n",
        "    print(f\"Saldo do mês {mês} é de R${saldo:5.2f}.\")\n",
        "    mês = mês + 1\n",
        "print(f\"O ganho obtido com os juros foi de R${saldo-depósito:8.2f}.\")"
      ]
    }
  ],
  "metadata": {
    "colab": {
      "authorship_tag": "ABX9TyOl7CDg5kt1b0FgOMa/2t3Z",
      "include_colab_link": true,
      "provenance": []
    },
    "kernelspec": {
      "display_name": "Python 3",
      "name": "python3"
    },
    "language_info": {
      "name": "python"
    }
  },
  "nbformat": 4,
  "nbformat_minor": 0
}
