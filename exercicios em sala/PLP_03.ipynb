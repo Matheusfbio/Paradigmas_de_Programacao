{
  "cells": [
    {
      "cell_type": "markdown",
      "metadata": {
        "colab_type": "text",
        "id": "view-in-github"
      },
      "source": [
        "<a href=\"https://colab.research.google.com/github/AntonioPascoal/PLP-Trabalhos/blob/main/PLP_03.ipynb\" target=\"_parent\"><img src=\"https://colab.research.google.com/assets/colab-badge.svg\" alt=\"Open In Colab\"/></a>"
      ]
    },
    {
      "cell_type": "markdown",
      "metadata": {
        "id": "P_-hVcN1dnGC"
      },
      "source": [
        "Lê um vetor de 8 posições e, \n",
        "em seguida,lê dois valores X e Y quaisquer correspondente a duas posições no vetor.\n",
        "O progama então imprime a soma dos valores encontrados nas respectivas pósições X e Y."
      ]
    },
    {
      "cell_type": "code",
      "execution_count": null,
      "metadata": {
        "id": "y4jRmrc1dgGv"
      },
      "outputs": [],
      "source": [
        "def main():\n",
        "  vetor =[0]* 8\n",
        "  for i in range(8):\n",
        "    vetor[i]=int(input(\"Digite o valor da posição{}:\".format(i)))\n",
        "  x = int(input(\"Digite o valor de X:\"))\n",
        "  y = int(input(\"Digite o valor de y:\"))\n",
        "  soma = vetor[x] + vetor[y]\n",
        "  print(\"A soma dos valores nas posições X e Y é{}.\".format(soma))\n",
        "if __name__ == \"__main__\":\n",
        "  main()"
      ]
    },
    {
      "cell_type": "markdown",
      "metadata": {
        "id": "7-g7Lq_2jc06"
      },
      "source": [
        "Faça um progama em Phyton que receba do usuario um vetor com 10 posições. \n",
        "Em seguida devera ser impresso o maior e o menor elemento do vetor alem da soma,\n",
        "media de todos os numeros e a quantida de elementos acima de 5."
      ]
    },
    {
      "cell_type": "code",
      "execution_count": null,
      "metadata": {
        "id": "1Ptm70pMjomx"
      },
      "outputs": [],
      "source": [
        "#Impresso o maior e o menor elemento do vetor\n",
        "def main():\n",
        "  #inicia o vetor zerado\n",
        "  vetor = []\n",
        "  #faz a leitura e preencimento dos elemento do vetor\n",
        "  for i in range(10):\n",
        "    vetor .append(int(input(\"Digite o elemento %d: \" % i)))\n",
        "    #Inicializa as variaveis\n",
        "  maior = vetor[0]\n",
        "  menor = vetor[0]\n",
        "  #Fazer o laço para armazenar os conteudos dos elementos nas variaveis\n",
        "  for i in range(1, len(vetor)):\n",
        "    if vetor[i] > maior:\n",
        "      maior = vetor[i]\n",
        "    elif vetor[i]<menor:\n",
        "      menor = vetor[i]\n",
        "  #Exibir o resultado final das variaveis\n",
        "  print(\"O maior valor é: {}\".format(maior))\n",
        "  print(\"O menor valor é: {}\".format(menor))\n",
        "if __name__ == \"__main__\":\n",
        "  main()\n",
        "#Depois lembrar de colocar as outras atividade python aqui no colab"
      ]
    },
    {
      "cell_type": "markdown",
      "metadata": {
        "id": "Md8024_Nagwo"
      },
      "source": [
        "Faça um programa em Python que receba do usuario dois vetores, A e B, \n",
        "com 10 numeros inteiros cada. \n",
        "Crie um novo vetor denominado C calculando C = A-B. \n",
        "Mostre na tela os dados do vetor C."
      ]
    },
    {
      "cell_type": "code",
      "execution_count": null,
      "metadata": {
        "id": "QuH70kkvvnzZ"
      },
      "outputs": [],
      "source": [
        "def main():\n",
        "    vetor_a = []\n",
        "    vetor_b = []\n",
        "    vetor_c = []\n",
        "\n",
        "    for i in range(10):\n",
        "        vetor_a.append(int(input(\"Digite o elemento %d do vetor A: \" % i)))\n",
        "        vetor_b.append(int(input(\"Digite o elemento %d do vetor B: \" % i)))\n",
        "\n",
        "    for i in range(10):\n",
        "        vetor_c.append(vetor_a[i] - vetor_b[i])\n",
        "\n",
        "    print(\"Vetor C:\")\n",
        "    for i in range(10):\n",
        "        print(vetor_c[i])\n",
        "\n",
        "\n",
        "if __name__ == \"__main__\":\n",
        "    main()"
      ]
    },
    {
      "cell_type": "markdown",
      "metadata": {
        "id": "4ozCjbvka5Q_"
      },
      "source": [
        "Faça um programa em Python que receba 6 numeros inteiros e mostre:\n",
        "• Os numeros pares digitados;\n",
        "• A soma dos numeros pares digitados;\n",
        "• Os numeros   ımpares digitados;\n",
        "• A quantidade de numeros  ımpares"
      ]
    },
    {
      "cell_type": "code",
      "execution_count": null,
      "metadata": {
        "id": "dqoJi_oza_bZ"
      },
      "outputs": [],
      "source": [
        "def main():\n",
        "    numeros = []\n",
        "    numeros_pares = []\n",
        "    numeros_impares = []\n",
        "    soma_pares = 0\n",
        "\n",
        "    for i in range(6):\n",
        "        numeros.append(int(input(\"Digite um número: \")))\n",
        "\n",
        "    for numero in numeros:\n",
        "        if numero % 2 == 0:\n",
        "            numeros_pares.append(numero)\n",
        "            soma_pares += numero\n",
        "        else:\n",
        "            numeros_impares.append(numero)\n",
        "\n",
        "    print(\"Os números pares digitados são:\")\n",
        "    for numero in numeros_pares:\n",
        "        print(numero)\n",
        "\n",
        "    print(\"A soma dos números pares digitados é:\", soma_pares)\n",
        "\n",
        "    print(\"Os números ímpares digitados são:\")\n",
        "    for numero in numeros_impares:\n",
        "        print(numero)\n",
        "\n",
        "    print(\"A quantidade de números ímpares digitados é:\", len(numeros_impares))\n",
        "\n",
        "\n",
        "if __name__ == \"__main__\":\n",
        "    main()"
      ]
    }
  ],
  "metadata": {
    "colab": {
      "authorship_tag": "ABX9TyO0mKnvqtSfsuxV4sRtqdKA",
      "include_colab_link": true,
      "provenance": []
    },
    "kernelspec": {
      "display_name": "Python 3",
      "name": "python3"
    },
    "language_info": {
      "name": "python"
    }
  },
  "nbformat": 4,
  "nbformat_minor": 0
}
